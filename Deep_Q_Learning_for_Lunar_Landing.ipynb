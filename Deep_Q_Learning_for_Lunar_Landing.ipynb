{
  "cells": [
    {
      "cell_type": "markdown",
      "metadata": {
        "id": "view-in-github",
        "colab_type": "text"
      },
      "source": [
        "<a href=\"https://colab.research.google.com/github/sportole/Lunar-Landing/blob/main/Deep_Q_Learning_for_Lunar_Landing.ipynb\" target=\"_parent\"><img src=\"https://colab.research.google.com/assets/colab-badge.svg\" alt=\"Open In Colab\"/></a>"
      ]
    },
    {
      "cell_type": "markdown",
      "metadata": {
        "id": "LbZcI9ZXHl3a"
      },
      "source": [
        "# Deep Q-Learning for Lunar Landing"
      ]
    },
    {
      "cell_type": "markdown",
      "metadata": {
        "id": "E8yPRjteXgPb"
      },
      "source": [
        "## Part 0 - Installing the required packages and importing the libraries"
      ]
    },
    {
      "cell_type": "markdown",
      "metadata": {
        "id": "slEm5teGWjWU"
      },
      "source": [
        "### Installing Gymnasium"
      ]
    },
    {
      "cell_type": "code",
      "execution_count": 1,
      "metadata": {
        "id": "dbnq3XpoKa_7",
        "colab": {
          "base_uri": "https://localhost:8080/"
        },
        "outputId": "d2577ce3-b292-4409-d523-603c6162224c"
      },
      "outputs": [
        {
          "output_type": "stream",
          "name": "stdout",
          "text": [
            "Requirement already satisfied: gymnasium in /usr/local/lib/python3.10/dist-packages (1.0.0)\n",
            "Requirement already satisfied: numpy>=1.21.0 in /usr/local/lib/python3.10/dist-packages (from gymnasium) (1.26.4)\n",
            "Requirement already satisfied: cloudpickle>=1.2.0 in /usr/local/lib/python3.10/dist-packages (from gymnasium) (3.1.0)\n",
            "Requirement already satisfied: typing-extensions>=4.3.0 in /usr/local/lib/python3.10/dist-packages (from gymnasium) (4.12.2)\n",
            "Requirement already satisfied: farama-notifications>=0.0.1 in /usr/local/lib/python3.10/dist-packages (from gymnasium) (0.0.4)\n",
            "Requirement already satisfied: gymnasium[accept-rom-license,atari] in /usr/local/lib/python3.10/dist-packages (1.0.0)\n",
            "\u001b[33mWARNING: gymnasium 1.0.0 does not provide the extra 'accept-rom-license'\u001b[0m\u001b[33m\n",
            "\u001b[0mRequirement already satisfied: numpy>=1.21.0 in /usr/local/lib/python3.10/dist-packages (from gymnasium[accept-rom-license,atari]) (1.26.4)\n",
            "Requirement already satisfied: cloudpickle>=1.2.0 in /usr/local/lib/python3.10/dist-packages (from gymnasium[accept-rom-license,atari]) (3.1.0)\n",
            "Requirement already satisfied: typing-extensions>=4.3.0 in /usr/local/lib/python3.10/dist-packages (from gymnasium[accept-rom-license,atari]) (4.12.2)\n",
            "Requirement already satisfied: farama-notifications>=0.0.1 in /usr/local/lib/python3.10/dist-packages (from gymnasium[accept-rom-license,atari]) (0.0.4)\n",
            "Requirement already satisfied: ale-py>=0.9 in /usr/local/lib/python3.10/dist-packages (from gymnasium[accept-rom-license,atari]) (0.10.1)\n",
            "Reading package lists... Done\n",
            "Building dependency tree... Done\n",
            "Reading state information... Done\n",
            "swig is already the newest version (4.0.2-1ubuntu1).\n",
            "0 upgraded, 0 newly installed, 0 to remove and 49 not upgraded.\n",
            "Requirement already satisfied: gymnasium[box2d] in /usr/local/lib/python3.10/dist-packages (1.0.0)\n",
            "Requirement already satisfied: numpy>=1.21.0 in /usr/local/lib/python3.10/dist-packages (from gymnasium[box2d]) (1.26.4)\n",
            "Requirement already satisfied: cloudpickle>=1.2.0 in /usr/local/lib/python3.10/dist-packages (from gymnasium[box2d]) (3.1.0)\n",
            "Requirement already satisfied: typing-extensions>=4.3.0 in /usr/local/lib/python3.10/dist-packages (from gymnasium[box2d]) (4.12.2)\n",
            "Requirement already satisfied: farama-notifications>=0.0.1 in /usr/local/lib/python3.10/dist-packages (from gymnasium[box2d]) (0.0.4)\n",
            "Requirement already satisfied: box2d-py==2.3.5 in /usr/local/lib/python3.10/dist-packages (from gymnasium[box2d]) (2.3.5)\n",
            "Requirement already satisfied: pygame>=2.1.3 in /usr/local/lib/python3.10/dist-packages (from gymnasium[box2d]) (2.6.1)\n",
            "Requirement already satisfied: swig==4.* in /usr/local/lib/python3.10/dist-packages (from gymnasium[box2d]) (4.3.0)\n"
          ]
        }
      ],
      "source": [
        "!pip install gymnasium\n",
        "!pip install \"gymnasium[atari, accept-rom-license]\"\n",
        "!apt-get install -y swig\n",
        "!pip install gymnasium[box2d]"
      ]
    },
    {
      "cell_type": "markdown",
      "metadata": {
        "id": "brqiMN3UW9T9"
      },
      "source": [
        "### Importing the libraries"
      ]
    },
    {
      "cell_type": "code",
      "execution_count": 2,
      "metadata": {
        "id": "mZaKXP_aMl9O"
      },
      "outputs": [],
      "source": [
        "import os\n",
        "import random\n",
        "import numpy as np\n",
        "import torch\n",
        "import torch.nn as nn\n",
        "import torch.optim as optim\n",
        "import torch.nn.functional as F\n",
        "import torch.autograd as autograd\n",
        "from torch.autograd import Variable\n",
        "from collections import deque, namedtuple"
      ]
    },
    {
      "cell_type": "markdown",
      "metadata": {
        "id": "EzlDKXvkXzGI"
      },
      "source": [
        "## Part 1 - Building the AI"
      ]
    },
    {
      "cell_type": "markdown",
      "metadata": {
        "id": "UtG6Zc83YYy3"
      },
      "source": [
        "### Creating the architecture of the Neural Network"
      ]
    },
    {
      "cell_type": "code",
      "source": [
        "class Network(nn.Module):\n",
        "    def __init__(self, state_size, action_size, seed = 42):\n",
        "        super(Network, self).__init__()\n",
        "        self.seed = torch.manual_seed(seed)\n",
        "        self.fc1 = nn.Linear(state_size, 64)\n",
        "        self.fc2 = nn.Linear(64, 64)\n",
        "        self.fc3 = nn.Linear(64, action_size)\n",
        "\n",
        "    def forward(self, state):\n",
        "        x = self.fc1(state)\n",
        "        x = F.relu(x)\n",
        "        x = self.fc2(x)\n",
        "        x = F.relu(x)\n",
        "        return self.fc3(x)"
      ],
      "metadata": {
        "id": "5sNpCC1tXJ_r"
      },
      "execution_count": 19,
      "outputs": []
    },
    {
      "cell_type": "markdown",
      "metadata": {
        "id": "UxVrBnFWZKb1"
      },
      "source": [
        "## Part 2 - Training the AI"
      ]
    },
    {
      "cell_type": "markdown",
      "metadata": {
        "id": "T364fz9qZb2j"
      },
      "source": [
        "### Setting up the environment"
      ]
    },
    {
      "cell_type": "code",
      "source": [
        "import gymnasium as gym\n",
        "env = gym.make('LunarLander-v3')\n",
        "state_shape = env.observation_space.shape\n",
        "state_size = env.observation_space.shape[0]\n",
        "number_actions = env.action_space.n\n",
        "print('State shape: ', state_shape)\n",
        "print('State size: ', state_size)\n",
        "print('Number of actions: ', number_actions)"
      ],
      "metadata": {
        "id": "41sgnpCwtd5f",
        "colab": {
          "base_uri": "https://localhost:8080/"
        },
        "outputId": "448394d1-799e-4fbd-bd5b-442afb085b80"
      },
      "execution_count": 20,
      "outputs": [
        {
          "output_type": "stream",
          "name": "stdout",
          "text": [
            "State shape:  (8,)\n",
            "State size:  8\n",
            "Number of actions:  4\n"
          ]
        }
      ]
    },
    {
      "cell_type": "markdown",
      "metadata": {
        "id": "c_dZmOIvZgj-"
      },
      "source": [
        "### Initializing the hyperparameters"
      ]
    },
    {
      "cell_type": "code",
      "source": [
        "learning_rate = 5e-4\n",
        "minibatch_size = 100\n",
        "gamma = 0.99 #discount factor\n",
        "replay_buffer_size = int(1e5)\n",
        "tau = 1e-3 #interpolation_parameter"
      ],
      "metadata": {
        "id": "FTTCZE13jUAl"
      },
      "execution_count": 60,
      "outputs": []
    },
    {
      "cell_type": "markdown",
      "metadata": {
        "id": "8hD_Vs-bYnip"
      },
      "source": [
        "### Implementing Experience Replay"
      ]
    },
    {
      "cell_type": "code",
      "source": [
        "class ReplayMemory(object):\n",
        "\n",
        "  def __init__(self, capacity):\n",
        "    self.device = torch.device(\"cuda:0\" if torch.cuda.is_available() else \"cpu\")\n",
        "    self.capacity = capacity\n",
        "    self.memory = []\n",
        "\n",
        "  def push(self, event):\n",
        "    self.memory.append(event)\n",
        "    if len(self.memory)>self.capacity:\n",
        "      del self.memory[0]\n",
        "\n",
        "  def sample(self, batch_size):\n",
        "    experiences = random.sample(self.memory, k = batch_size)\n",
        "    states = torch.from_numpy(np.vstack([e[0] for e in experiences if e is not None])).float().to(self.device)\n",
        "    actions = torch.from_numpy(np.vstack([e[1] for e in experiences if e is not None])).long().to(self.device)\n",
        "    rewards = torch.from_numpy(np.vstack([e[2] for e in experiences if e is not None])).float().to(self.device)\n",
        "    next_states = torch.from_numpy(np.vstack([e[3] for e in experiences if e is not None])).float().to(self.device)\n",
        "    dones = torch.from_numpy(np.vstack([e[4] for e in experiences if e is not None]).astype(np.uint8)).float().to(self.device)\n",
        "    return states, next_states, actions, rewards, dones"
      ],
      "metadata": {
        "id": "NOpoCCa3ke21"
      },
      "execution_count": 61,
      "outputs": []
    },
    {
      "cell_type": "markdown",
      "metadata": {
        "id": "JmEkbFbUY6Jt"
      },
      "source": [
        "### Implementing the DQN class"
      ]
    },
    {
      "cell_type": "code",
      "source": [
        "class Agent():\n",
        "\n",
        "  def __init__(self, state_size, action_size):\n",
        "    self.device = torch.device(\"cuda:0\" if torch.cuda.is_available() else \"cpu\")\n",
        "    self.state_size = state_size\n",
        "    self.action_size = action_size\n",
        "    self.qnetwork_local = Network(state_size, action_size).to(self.device)\n",
        "    self.qnetwork_target = Network(state_size, action_size).to(self.device)\n",
        "    self.optimizer = optim.Adam(self.qnetwork_local.parameters(), lr = learning_rate)\n",
        "    self.memory = ReplayMemory(replay_buffer_size)\n",
        "    self.time_step = 0\n",
        "\n",
        "  def step(self, state, action, reward, next_state, done):\n",
        "    self.memory.push((state, action, reward, next_state, done))\n",
        "    self.time_step = (self.time_step + 1) % 4\n",
        "    if self.time_step == 0:\n",
        "      if len(self.memory.memory) > minibatch_size:\n",
        "        experiences = self.memory.sample(100)\n",
        "        self.learn(experiences, gamma)\n",
        "\n",
        "  def act(self, state, epsilon = 0.):\n",
        "    state = torch.from_numpy(state).float().unsqueeze(0).to(self.device)\n",
        "    self.qnetwork_local.eval()\n",
        "    with torch.no_grad():\n",
        "      action_values = self.qnetwork_local(state)\n",
        "    self.qnetwork_local.train()\n",
        "    if random.random() > epsilon:\n",
        "      return np.argmax(action_values.cpu().data.numpy())\n",
        "    else:\n",
        "      return random.choice(np.arange(self.action_size))\n",
        "\n",
        "  def learn(self, experiences, gamma):\n",
        "    states, next_states, actions, rewards, dones = experiences\n",
        "    Q_targets_next = self.qnetwork_target(next_states).detach().max(1)[0].unsqueeze(1)\n",
        "    Q_targets = rewards + gamma * Q_targets_next * (1 - dones)\n",
        "    Q_expected = self.qnetwork_local(states).gather(1, actions)\n",
        "    Loss = F.mse_loss(Q_expected, Q_targets)\n",
        "    self.optimizer.zero_grad()\n",
        "    Loss.backward()\n",
        "    self.optimizer.step()\n",
        "    self.soft_update(self.qnetwork_local, self.qnetwork_target, tau)\n",
        "\n",
        "  def soft_update(self, local_model, target_model, tau):\n",
        "    for target_param, local_param in zip(target_model.parameters(), local_model.parameters()):\n",
        "      target_param.data.copy_(tau*local_param.data + (1.0-tau) * target_param.data)"
      ],
      "metadata": {
        "id": "n6tCchWZonry"
      },
      "execution_count": 62,
      "outputs": []
    },
    {
      "cell_type": "markdown",
      "metadata": {
        "id": "o1tZElccZmf6"
      },
      "source": [
        "### Initializing the DQN agent"
      ]
    },
    {
      "cell_type": "code",
      "source": [
        "agent = Agent(state_size, number_actions)"
      ],
      "metadata": {
        "id": "86u6ewHRHRlm"
      },
      "execution_count": 63,
      "outputs": []
    },
    {
      "cell_type": "markdown",
      "metadata": {
        "id": "E8v0PtUfaVQp"
      },
      "source": [
        "### Training the DQN agent"
      ]
    },
    {
      "cell_type": "code",
      "source": [
        "number_episodes = 2000\n",
        "max_number_timesteps_per_episode = 1000\n",
        "epsilon_start = 1.0\n",
        "epsilon_end = 0.01\n",
        "epsilon_decay_rate = 0.995\n",
        "epsilon_state = epsilon_start\n",
        "scores_window = deque(maxlen = 100)\n",
        "\n",
        "for i_episode in range(1, number_episodes + 1):\n",
        "  state, _ = env.reset()\n",
        "  score = 0\n",
        "  for t in range(max_number_timesteps_per_episode):\n",
        "    action = agent.act(state, epsilon_state)\n",
        "    next_state, reward, done, _, _ = env.step(action)\n",
        "    agent.step(state, action, reward, next_state, done)\n",
        "    state = next_state\n",
        "    score += reward\n",
        "    if done:\n",
        "      break\n",
        "  scores_window.append(score)\n",
        "  epsilon_state = max(epsilon_end, epsilon_decay_rate * epsilon_state)\n",
        "  print('\\rEpisode {}\\tAverage Score: {:.2f}'.format(i_episode, np.mean(scores_window)), end = \"\")\n",
        "  if i_episode % 100 == 0:\n",
        "    print('\\rEpisode {}\\tAverage Score: {:.2f}'.format(i_episode, np.mean(scores_window)))\n",
        "  if np.mean(scores_window) >= 200.0:\n",
        "    print('\\nEnvironment solved in {:d} episodes!\\tAverage Score: {:.2f}'.format(i_episode - 100, np.mean(scores_window)))\n",
        "    torch.save(agent.qnetwork_local.state_dict(), 'checkpoint.pth')\n",
        "    break"
      ],
      "metadata": {
        "colab": {
          "base_uri": "https://localhost:8080/"
        },
        "id": "3SyCrWClI4n1",
        "outputId": "8174ea2e-50df-4a59-fd4e-61eba1b73d07"
      },
      "execution_count": 65,
      "outputs": [
        {
          "output_type": "stream",
          "name": "stdout",
          "text": [
            "Episode 100\tAverage Score: -138.89\n",
            "Episode 200\tAverage Score: -79.90\n",
            "Episode 300\tAverage Score: -38.06\n",
            "Episode 400\tAverage Score: 43.05\n",
            "Episode 500\tAverage Score: 99.99\n",
            "Episode 600\tAverage Score: 134.99\n",
            "Episode 700\tAverage Score: 194.39\n",
            "Episode 707\tAverage Score: 202.76\n",
            "Environment solved in 607 episodes!\tAverage Score: 202.76\n"
          ]
        }
      ]
    },
    {
      "cell_type": "markdown",
      "metadata": {
        "id": "O8CNwdOTcCoP"
      },
      "source": [
        "## Part 3 - Visualizing the results"
      ]
    },
    {
      "cell_type": "code",
      "execution_count": 66,
      "metadata": {
        "id": "cb9nVvU2Okhk",
        "outputId": "49f77c41-4dee-474e-924a-68745b5c5731",
        "colab": {
          "base_uri": "https://localhost:8080/",
          "height": 459
        }
      },
      "outputs": [
        {
          "output_type": "stream",
          "name": "stderr",
          "text": [
            "WARNING:imageio_ffmpeg:IMAGEIO FFMPEG_WRITER WARNING: input image is not divisible by macro_block_size=16, resizing from (600, 400) to (608, 400) to ensure video compatibility with most codecs and players. To prevent resizing, make your input image divisible by the macro_block_size or set the macro_block_size to 1 (risking incompatibility).\n"
          ]
        },
        {
          "output_type": "display_data",
          "data": {
            "text/plain": [
              "<IPython.core.display.HTML object>"
            ],
            "text/html": [
              "<video alt=\"test\" autoplay\n",
              "                loop controls style=\"height: 400px;\">\n",
              "                <source src=\"data:video/mp4;base64,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\" type=\"video/mp4\" />\n",
              "             </video>"
            ]
          },
          "metadata": {}
        }
      ],
      "source": [
        "import glob\n",
        "import io\n",
        "import base64\n",
        "import imageio\n",
        "from IPython.display import HTML, display\n",
        "\n",
        "def show_video_of_model(agent, env_name):\n",
        "    env = gym.make(env_name, render_mode='rgb_array')\n",
        "    state, _ = env.reset()\n",
        "    done = False\n",
        "    frames = []\n",
        "    while not done:\n",
        "        frame = env.render()\n",
        "        frames.append(frame)\n",
        "        action = agent.act(state)\n",
        "        state, reward, done, _, _ = env.step(action.item())\n",
        "    env.close()\n",
        "    imageio.mimsave('video.mp4', frames, fps=30)\n",
        "\n",
        "show_video_of_model(agent, 'LunarLander-v3')\n",
        "\n",
        "def show_video():\n",
        "    mp4list = glob.glob('*.mp4')\n",
        "    if len(mp4list) > 0:\n",
        "        mp4 = mp4list[0]\n",
        "        video = io.open(mp4, 'r+b').read()\n",
        "        encoded = base64.b64encode(video)\n",
        "        display(HTML(data='''<video alt=\"test\" autoplay\n",
        "                loop controls style=\"height: 400px;\">\n",
        "                <source src=\"data:video/mp4;base64,{0}\" type=\"video/mp4\" />\n",
        "             </video>'''.format(encoded.decode('ascii'))))\n",
        "    else:\n",
        "        print(\"Could not find video\")\n",
        "\n",
        "show_video()"
      ]
    },
    {
      "cell_type": "code",
      "source": [],
      "metadata": {
        "id": "pACaiVkqJjOt"
      },
      "execution_count": null,
      "outputs": []
    }
  ],
  "metadata": {
    "colab": {
      "provenance": [],
      "include_colab_link": true
    },
    "kernelspec": {
      "display_name": "Python 3",
      "name": "python3"
    },
    "language_info": {
      "name": "python"
    }
  },
  "nbformat": 4,
  "nbformat_minor": 0
}